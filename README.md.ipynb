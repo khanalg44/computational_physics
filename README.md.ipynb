{
 "cells": [
  {
   "cell_type": "markdown",
   "metadata": {},
   "source": [
    "# Notes for NPS\n",
    "\n",
    "## Statistical and Thermal Physics\n",
    "\n",
    "### Books\n",
    "* Introduction to Thermal Physics by Schroeder\n",
    "\n",
    "### Resources:\n",
    "* http://www-personal.umich.edu/~mejn/cp/ \n",
    "* http://physics.bu.edu/~pankajm/PY410.html\n",
    "* https://sites.google.com/a/udayton.edu/isudakov1/to-do-list/phy-301---thermal-physics\n",
    "\n",
    "http://www.lps.ens.fr/~krauth/index.php/Main_Page\n",
    "\n",
    "http://blancopeck.net/Statistics.pdf"
   ]
  },
  {
   "cell_type": "code",
   "execution_count": null,
   "metadata": {},
   "outputs": [],
   "source": []
  }
 ],
 "metadata": {
  "kernelspec": {
   "display_name": "Python 3",
   "language": "python",
   "name": "python3"
  },
  "language_info": {
   "codemirror_mode": {
    "name": "ipython",
    "version": 3
   },
   "file_extension": ".py",
   "mimetype": "text/x-python",
   "name": "python",
   "nbconvert_exporter": "python",
   "pygments_lexer": "ipython3",
   "version": "3.7.5"
  }
 },
 "nbformat": 4,
 "nbformat_minor": 2
}
