{
 "cells": [
  {
   "cell_type": "markdown",
   "metadata": {},
   "source": [
    "# Bulk Modulus for Solids"
   ]
  },
  {
   "cell_type": "code",
   "execution_count": 1,
   "metadata": {},
   "outputs": [
    {
     "name": "stdout",
     "output_type": "stream",
     "text": [
      "vmin= 3.416419194904387 amin= 4.517938271841838 Bulk Modulus= 5204.9783313481485\n"
     ]
    },
    {
     "data": {
      "image/png": "[encoded data removed]",
      "text/plain": [
       "<Figure size 432x288 with 1 Axes>"
      ]
     },
     "metadata": {
      "needs_background": "light"
     },
     "output_type": "display_data"
    }
   ],
   "source": [
    "import numpy as np\n",
    "import pylab as plt\n",
    "from scipy.interpolate import UnivariateSpline\n",
    "from scipy.optimize import brentq\n",
    "import sys\n",
    "\n",
    "Ry2meV=13.6058*1e3\n",
    "au2ang = 0.52918\n",
    "meV_a3_2_GPa = 0.16021766208\n",
    "    \n",
    "def findmin(fs, x):\n",
    "    dfs = fs.derivative()\n",
    "    if dfs(x[0])*dfs(x[-1])<0 :\n",
    "        Vmin = brentq( dfs,  x[0],x[-1])\n",
    "    else:\n",
    "        Vmin = min(x)\n",
    "    Emin = fs(Vmin)\n",
    "    d2E_d2V = fs.derivatives(Vmin)[2]   # 2nd order derrivative\n",
    "    B = Vmin*d2E_d2V*meV_a3_2_GPa\n",
    "    return (Vmin, Emin, B)\n",
    "\n",
    "def Plot(fname):\n",
    "    a, ene = np.loadtxt(fname).transpose()\n",
    "    a = (a*au2ang)**3/4.  # volume per atom, As FCC lattice has 4 atoms per unit cell\n",
    "    ene   = (ene -min(ene ))*Ry2meV\n",
    "\n",
    "    f = UnivariateSpline(a, ene , s=0.05)\n",
    "    x = np.linspace(a[0], a[-1], 100)\n",
    "    derivs = np.zeros((1, 3, len(x) ), dtype=float)  # we want to save only up to 2nd order derivative\n",
    "\n",
    "    for i in range(len(x)):\n",
    "        derivs[0,:,i] = f.derivatives(x[i])[:3]  # save only 0th, 1st and 2nd order derrivative\n",
    "\n",
    "    (Vmin, Emin, B) = findmin(f, x)\n",
    "    amin = (4*Vmin)**(1./3.) /au2ang\n",
    "    print ('vmin=', Vmin, 'amin=', amin, 'Bulk Modulus=',B)\n",
    "\n",
    "    plt.plot(x, f(x)-Emin, ls='-', lw=2., color='royalblue')\n",
    "    plt.plot(a, ene-Emin, 'o', color='royalblue')\n",
    "\n",
    "    plt.ylim(bottom=0)\n",
    "    plt.xlabel('vol(A^3)', fontsize='large')\n",
    "    plt.ylabel('Energy', fontsize='large')\n",
    "    plt.show()\n",
    "\n",
    "if __name__==\"__main__\":\n",
    "    fil='energy_data.dat'\n",
    "    Plot(fil )\n"
   ]
  },
  {
   "cell_type": "code",
   "execution_count": null,
   "metadata": {},
   "outputs": [],
   "source": []
  },
  {
   "cell_type": "code",
   "execution_count": null,
   "metadata": {},
   "outputs": [],
   "source": []
  },
  {
   "cell_type": "code",
   "execution_count": null,
   "metadata": {},
   "outputs": [],
   "source": []
  }
 ],
 "metadata": {
  "kernelspec": {
   "display_name": "Python 3",
   "language": "python",
   "name": "python3"
  },
  "language_info": {
   "codemirror_mode": {
    "name": "ipython",
    "version": 3
   },
   "file_extension": ".py",
   "mimetype": "text/x-python",
   "name": "python",
   "nbconvert_exporter": "python",
   "pygments_lexer": "ipython3",
   "version": "3.8.5"
  }
 },
 "nbformat": 4,
 "nbformat_minor": 4
}
