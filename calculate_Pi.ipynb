{
 "cells": [
  {
   "cell_type": "markdown",
   "metadata": {},
   "source": [
    "# Direct and Markov-chain Sampling"
   ]
  },
  {
   "cell_type": "code",
   "execution_count": 1,
   "metadata": {},
   "outputs": [
    {
     "name": "stdout",
     "output_type": "stream",
     "text": [
      "Direct Sampling method\n",
      "N=1000, \t pi=3.1440\n",
      "N=10000, \t pi=3.1468\n",
      "N=50000, \t pi=3.1608\n",
      "N=100000, \t pi=3.1282\n"
     ]
    }
   ],
   "source": [
    "import numpy as np\n",
    "import pylab as plt\n",
    "\n",
    "def calc_pi_direct(N):\n",
    "    N_hits  =0\n",
    "    for i in range(N):    \n",
    "        rx = 2*np.random.rand() -1  \n",
    "        ry = 2*np.random.rand() -1\n",
    "        # calculate the distance of that random point from origin\n",
    "        l = np.sqrt(  rx**2 + ry**2  )\n",
    "        # compare length with radius, radius =1. in this case;\n",
    "        if l <= 1.:\n",
    "            N_hits += 1\n",
    "            \n",
    "    return 4*N_hits/N\n",
    "\n",
    "#print (calc_pi_direct(100) )\n",
    "\n",
    "print ('Direct Sampling method')\n",
    "for N in [1000, 10000, 50000, 100000]:\n",
    "    pi = calc_pi_direct(N)\n",
    "    print ('N=%i, \\t pi=%1.4f' % (N, pi))\n"
   ]
  },
  {
   "cell_type": "code",
   "execution_count": 2,
   "metadata": {},
   "outputs": [
    {
     "name": "stdout",
     "output_type": "stream",
     "text": [
      "Markov-Chain Sampling method\n",
      "N=1000, \t pi=3.1040\n",
      "N=10000, \t pi=3.1768\n",
      "N=50000, \t pi=3.1414\n",
      "N=100000, \t pi=3.1344\n"
     ]
    }
   ],
   "source": [
    "def calc_pi_Markov(N, delta):\n",
    "    N_hits =0\n",
    "    x,y = 0, 0\n",
    "    for i in range(N):\n",
    "        # generate random points (dx, dy)\n",
    "        dx = 2*delta*np.random.rand() - delta\n",
    "        dy = 2*delta*np.random.rand() - delta\n",
    "        \n",
    "        # check if you go out of the box\n",
    "        # if you are still inside the box then \n",
    "        # add this new position to your old position\n",
    "        if (abs(x+dx) <1  and abs(y+dy) <1):\n",
    "            x += dx\n",
    "            y += dy\n",
    "        # add 1 if you are still inside the circle\n",
    "        if (x**2+y**2<1):\n",
    "            N_hits +=1\n",
    "    return 4*N_hits/N\n",
    "\n",
    "print ('Markov-Chain Sampling method')\n",
    "\n",
    "for N in [1000, 10000, 50000, 100000]:\n",
    "    pi = calc_pi_Markov(N, 0.5)\n",
    "    print ('N=%i, \\t pi=%1.4f' % (N, pi))"
   ]
  },
  {
   "attachments": {},
   "cell_type": "markdown",
   "metadata": {},
   "source": [
    "### Markov Chain \n",
    "\n",
    "Notice in the Markov method the configuration of $(i+1)^{th}$ step only depended on $i^{th}$ step. This is what defines a Markov chain: the probability of generating configuration $i + 1$ depends only on the preceding configuration, $i$, and not on earlier configurations.\n",
    "\n",
    "\n",
    "Mathematically what we are evaluting is the following.\n",
    "<img src=\"figs/equation_1.2.png\" width=50%>\n",
    "\n",
    "So the great simplification that the Monte Carlo sampling brings is the fact that we can evaluate some complex integrals using MC sampling. "
   ]
  },
  {
   "cell_type": "code",
   "execution_count": null,
   "metadata": {},
   "outputs": [],
   "source": []
  }
 ],
 "metadata": {
  "kernelspec": {
   "display_name": "Python 3",
   "language": "python",
   "name": "python3"
  },
  "language_info": {
   "codemirror_mode": {
    "name": "ipython",
    "version": 3
   },
   "file_extension": ".py",
   "mimetype": "text/x-python",
   "name": "python",
   "nbconvert_exporter": "python",
   "pygments_lexer": "ipython3",
   "version": "3.7.5"
  }
 },
 "nbformat": 4,
 "nbformat_minor": 2
}
