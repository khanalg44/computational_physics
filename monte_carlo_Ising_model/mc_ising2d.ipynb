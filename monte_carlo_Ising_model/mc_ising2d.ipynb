{
 "cells": [
  {
   "cell_type": "markdown",
   "metadata": {},
   "source": [
    "# Ising model: Monte Carlo Simulation\n",
    "\n",
    "<img src=\"ising_lattice.png\" style=\"width: 400px;\"/> \n",
    "\n",
    "The simple Ising Hamiltonian can be written as \n",
    "\n",
    "$$ H=-\\sum_{<i,j>} J_{ij} \\sigma_i \\sigma_{j}$$,\n",
    "\n",
    "where $J_{ij}$ is a real number. We added a negative sign to the Hamiltonian: this is by convention. If the spins are antiferromagnetic, that is, they behave as we would expect from magnets, then all $J_{ij}$ values would be negative. That cancels out the negative sign of the sum, so we still expect that each product $\\sigma_i\\sigma_j$ would give you -1 in the optimum configuration.\n"
   ]
  },
  {
   "cell_type": "code",
   "execution_count": 1,
   "metadata": {},
   "outputs": [],
   "source": [
    "import numpy as np\n",
    "import matplotlib.pylab as plt\n",
    "import seaborn as sns"
   ]
  },
  {
   "cell_type": "code",
   "execution_count": 2,
   "metadata": {},
   "outputs": [
    {
     "data": {
      "text/plain": [
       "array([ 1,  1,  1, -1,  1, -1,  1, -1,  1,  1])"
      ]
     },
     "execution_count": 2,
     "metadata": {},
     "output_type": "execute_result"
    }
   ],
   "source": [
    "np.sign(2*np.random.rand(10)-1).astype('int')"
   ]
  },
  {
   "cell_type": "code",
   "execution_count": 3,
   "metadata": {
    "scrolled": true
   },
   "outputs": [],
   "source": [
    "class Ising2D():\n",
    "    def __init__(self, L=10, seed=8848):\n",
    "        \n",
    "        self.L = L\n",
    "        self.L2 = self.L * self.L\n",
    "        np.random.seed(seed)\n",
    "        # construct a lattice with random spins (+1, -1)\n",
    "        self.Lattice = np.array([ np.sign(2*np.random.rand(self.L)-1).astype('int') for i in range(self.L)] )\n",
    "\n",
    "    def Print_lattice(self):\n",
    "        for row in self.Lattice:\n",
    "            print (row)\n",
    "\n",
    "    def Plot_lattice(self):\n",
    "        fig,ax=plt.subplots(1,1, figsize=(6,6))\n",
    "        sns.heatmap(self.Lattice, linecolor='white', cbar=True, ax=ax,\\\n",
    "                    square=True, cmap='viridis', xticklabels=[], yticklabels=[]);\n",
    "        plt.show()\n",
    "        \n",
    "    def Compute_Energy(self, J=1):\n",
    "        # one liner using list comprehension\n",
    "        ene = np.sum([ -1.0*J*self.Lattice[i,j] *(self.Lattice[ (i+1)%self.L, j ] +\\\n",
    "                                                  self.Lattice[ (i-1)%self.L, j ] +\\\n",
    "                                                  self.Lattice[ i, (j+1)%self.L ] +\\\n",
    "                                                  self.Lattice[ i, (j-1)%self.L ] )\\\n",
    "                      for i in range(self.L) for j in range(self.L) ])\n",
    "        return 0.5*ene # 0.5 to correct the double counting\n",
    "\n",
    "    def MCC_sampling(self, PW, Nitt, warm=5000, measure=5):\n",
    "        \"Monte carlo sampling\"\n",
    "        Ene = self.Compute_Energy()\n",
    "        Mn = np.sum(self.Lattice)\n",
    "\n",
    "        Eaver = 0.0\n",
    "        Maver = 0.0\n",
    "        Naver = 0.0\n",
    "\n",
    "        for itt in range(Nitt):\n",
    "            t = int(np.random.rand()*self.L2)\n",
    "            (i,j) = (t%self.L, t//self.L)\n",
    "            S = self.Lattice[i,j]\n",
    "            #print (i,j), S\n",
    "            WF =self.Lattice[(i+1)%self.L,j] + self.Lattice[(i-1)%self.L,j] +\\\n",
    "                self.Lattice[i,(j+1)%self.L] + self.Lattice[i,(j-1)%self.L]\n",
    "            # new configuration -S , old configuration is S\n",
    "            # eneryg change is : (-J)*WF*(-S) - (-J)*WF*S = 2*J*WF*S \n",
    "            # P = exp(-2*WF*S/T) = exp(-(WF*S)/T) = PW[4+WF*S]\n",
    "            P = PW[4+S*WF]\n",
    "            if P > np.random.rand():    # flip the spin\n",
    "                self.Lattice[i,j] = -S\n",
    "                Ene += 2*S*WF\n",
    "                Mn -= 2*S\n",
    "\n",
    "            if itt > warm and itt%measure == 0:\n",
    "                Eaver += Ene\n",
    "                Maver += Mn\n",
    "                Naver += 1\n",
    "\n",
    "        return (Maver/Naver, Eaver/Naver)\n",
    "    \n",
    "    def compute_Transition(self, Nitt=100000, ax=None):\n",
    "        PW = np.zeros(9,dtype = float) # 9 because we go from -8 to 8 including zero\n",
    "\n",
    "        wT = np.linspace(6, 0.5, 50)\n",
    "        \n",
    "        wMag = []\n",
    "        wEne = []\n",
    "        for T in wT:\n",
    "            # PW[4+i] = exp(-i*2/T)\n",
    "            PW[4+4] = np.exp(-4.*2/T)\n",
    "            PW[4+2] = np.exp(-2.*2/T)\n",
    "            PW[4+0] = 1.0\n",
    "            PW[4-2] = np.exp(2.*2/T)\n",
    "            PW[4-4] = np.exp(4.*2/T)\n",
    "\n",
    "            (Mag, Ene) = self.MCC_sampling(PW, Nitt=Nitt)\n",
    "\n",
    "            wMag.append(Mag/(self.L2))\n",
    "            wEne.append(Ene/(self.L2))\n",
    "\n",
    "        if ax is None:\n",
    "            fig, ax = plt.subplots(1,1, figsize=(6,4))\n",
    "        ax.scatter(wT, wMag, label='Magnetization', color='r')\n",
    "        ax.scatter(wT, wEne, label='Energy', color='b')\n",
    "        \n",
    "        (ymin, ymax) = ax.get_ylim()\n",
    "        ax.vlines(x=2.269, ymin=ymin, ymax=ymax, color='k', ls='--', lw=2., label='Exact Tc')\n",
    "        ax.hlines(y=0, xmin=wT[-1], xmax=wT[0], ls='--', color='k', lw=1.)\n",
    "        \n",
    "        ax.set_xlabel(\"T\", fontsize=\"large\")\n",
    "        ax.legend(loc='best',frameon=False, fontsize=16)"
   ]
  },
  {
   "cell_type": "code",
   "execution_count": 4,
   "metadata": {},
   "outputs": [
    {
     "data": {
      "image/png": "[encoded data removed]",
      "text/plain": [
       "<Figure size 432x432 with 2 Axes>"
      ]
     },
     "metadata": {
      "needs_background": "light"
     },
     "output_type": "display_data"
    }
   ],
   "source": [
    "model = Ising2D(L=30)\n",
    "model.Plot_lattice()"
   ]
  },
  {
   "cell_type": "code",
   "execution_count": 5,
   "metadata": {},
   "outputs": [
    {
     "data": {
      "image/png": "[encoded data removed]",
      "text/plain": [
       "<Figure size 432x432 with 2 Axes>"
      ]
     },
     "metadata": {
      "needs_background": "light"
     },
     "output_type": "display_data"
    }
   ],
   "source": [
    "model = Ising2D(L=30, seed=10)\n",
    "model.Plot_lattice()"
   ]
  },
  {
   "cell_type": "code",
   "execution_count": 6,
   "metadata": {},
   "outputs": [
    {
     "data": {
      "image/png": "[encoded data removed]",
      "text/plain": [
       "<Figure size 432x288 with 1 Axes>"
      ]
     },
     "metadata": {
      "needs_background": "light"
     },
     "output_type": "display_data"
    }
   ],
   "source": [
    "model = Ising2D(L=10, seed=20)\n",
    "model.compute_Transition()"
   ]
  },
  {
   "cell_type": "markdown",
   "metadata": {},
   "source": [
    "We can clearly see that around T=2.5, phase transision occurs and the system changes from non-magnetic to magnetic. (going from high T to low T). This is called Critical temperature. Note that the exact value from Onsager solution is $T_c=2.269$ and our number is very very close to that which can further be improved by increasing the lattice size, monte carlo steps and so on."
   ]
  },
  {
   "cell_type": "code",
   "execution_count": null,
   "metadata": {},
   "outputs": [],
   "source": []
  }
 ],
 "metadata": {
  "kernelspec": {
   "display_name": "Python 3",
   "language": "python",
   "name": "python3"
  },
  "language_info": {
   "codemirror_mode": {
    "name": "ipython",
    "version": 3
   },
   "file_extension": ".py",
   "mimetype": "text/x-python",
   "name": "python",
   "nbconvert_exporter": "python",
   "pygments_lexer": "ipython3",
   "version": "3.8.4"
  },
  "varInspector": {
   "cols": {
    "lenName": 16,
    "lenType": 16,
    "lenVar": 40
   },
   "kernels_config": {
    "python": {
     "delete_cmd_postfix": "",
     "delete_cmd_prefix": "del ",
     "library": "var_list.py",
     "varRefreshCmd": "print(var_dic_list())"
    },
    "r": {
     "delete_cmd_postfix": ") ",
     "delete_cmd_prefix": "rm(",
     "library": "var_list.r",
     "varRefreshCmd": "cat(var_dic_list()) "
    }
   },
   "types_to_exclude": [
    "module",
    "function",
    "builtin_function_or_method",
    "instance",
    "_Feature"
   ],
   "window_display": false
  }
 },
 "nbformat": 4,
 "nbformat_minor": 2
}
